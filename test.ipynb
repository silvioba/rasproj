{
 "cells": [
  {
   "cell_type": "code",
   "execution_count": 15,
   "metadata": {
    "collapsed": true
   },
   "outputs": [
    {
     "name": "stdout",
     "output_type": "stream",
     "text": [
      "                   Time  Temperature  Relative Humidity  \\\n",
      "182 2020-06-18 14:00:00    19.870530               55.0   \n",
      "183 2020-06-18 15:00:00    20.460530               53.0   \n",
      "184 2020-06-18 16:00:00    20.680529               52.0   \n",
      "185 2020-06-18 17:00:00    19.950530               53.0   \n",
      "186 2020-06-18 18:00:00    20.090528               53.0   \n",
      "187 2020-06-18 19:00:00    19.380530               55.0   \n",
      "188 2020-06-18 20:00:00    18.950530               56.0   \n",
      "189 2020-06-18 21:00:00    18.080528               60.0   \n",
      "190 2020-06-18 22:00:00    16.330528               68.0   \n",
      "191 2020-06-18 23:00:00    15.390529               70.0   \n",
      "\n",
      "     Mean Sea Level Pressure  Precipitation Total  Shortwave Radiation  \\\n",
      "182                   1013.8                  0.0           753.830000   \n",
      "183                   1013.5                  0.0           789.430000   \n",
      "184                   1013.4                  0.0           618.550000   \n",
      "185                   1013.6                  0.0           418.300000   \n",
      "186                   1013.4                  0.0           314.169980   \n",
      "187                   1013.9                  0.0           242.080000   \n",
      "188                   1014.6                  0.0           106.799995   \n",
      "189                   1015.0                  0.0            62.300000   \n",
      "190                   1015.7                  0.0             5.340000   \n",
      "191                   1016.2                  0.0             0.000000   \n",
      "\n",
      "     Wind Speed  Wind Direction  \n",
      "182   10.709147       275.71060  \n",
      "183    8.795236       268.26428  \n",
      "184    9.045838       256.37302  \n",
      "185    7.839587       260.21760  \n",
      "186    7.743951       266.05480  \n",
      "187    8.031860       264.28943  \n",
      "188    8.275568       266.30862  \n",
      "189    8.628235       278.88065  \n",
      "190    6.590373       284.03625  \n",
      "191    4.393581       255.96376  \n"
     ]
    }
   ],
   "source": [
    "#import chart_studio.tools as tls\n",
    "import pandas as pd\n",
    "\n",
    "# Import data\n",
    "types = {'Time': 'str'}\n",
    "parse_dates = ['Time']\n",
    "data = pd.read_csv(\"dataexport_20200618T105025.csv\", dtype=types, parse_dates=parse_dates)\n",
    "temp = data.Temperature\n",
    "print(data.tail(10))"
   ]
  },
  {
   "cell_type": "code",
   "execution_count": 16,
   "outputs": [
    {
     "data": {
      "text/plain": "0    14.240529\n1    13.940529\n2    13.470529\n3    12.990529\n4    12.400529\nName: Temperature, dtype: float64"
     },
     "execution_count": 16,
     "metadata": {},
     "output_type": "execute_result"
    }
   ],
   "source": [
    "temp.head()\n",
    "\n"
   ],
   "metadata": {
    "collapsed": false,
    "pycharm": {
     "name": "#%%\n"
    }
   }
  },
  {
   "cell_type": "code",
   "execution_count": 3,
   "outputs": [
    {
     "ename": "NameError",
     "evalue": "name 'tls' is not defined",
     "output_type": "error",
     "traceback": [
      "\u001B[0;31m---------------------------------------------------------------------------\u001B[0m",
      "\u001B[0;31mNameError\u001B[0m                                 Traceback (most recent call last)",
      "\u001B[0;32m<ipython-input-3-7073273768f8>\u001B[0m in \u001B[0;36m<module>\u001B[0;34m\u001B[0m\n\u001B[0;32m----> 1\u001B[0;31m \u001B[0mtls\u001B[0m\u001B[0;34m.\u001B[0m\u001B[0mget_embed\u001B[0m\u001B[0;34m(\u001B[0m\u001B[0;34m'https://barandun.github.io'\u001B[0m\u001B[0;34m)\u001B[0m\u001B[0;34m\u001B[0m\u001B[0;34m\u001B[0m\u001B[0m\n\u001B[0m\u001B[1;32m      2\u001B[0m \u001B[0;34m\u001B[0m\u001B[0m\n\u001B[1;32m      3\u001B[0m \u001B[0;34m\u001B[0m\u001B[0m\n",
      "\u001B[0;31mNameError\u001B[0m: name 'tls' is not defined"
     ]
    }
   ],
   "source": [
    "tls.get_embed('https://barandun.github.io')\n",
    "\n"
   ],
   "metadata": {
    "collapsed": false,
    "pycharm": {
     "name": "#%%\n"
    }
   }
  },
  {
   "cell_type": "code",
   "execution_count": 14,
   "outputs": [
    {
     "name": "stdout",
     "output_type": "stream",
     "text": [
      "26/06/2020_\n"
     ]
    },
    {
     "data": {
      "text/plain": "-1"
     },
     "execution_count": 14,
     "metadata": {},
     "output_type": "execute_result"
    }
   ],
   "source": [
    "from datetime import datetime\n",
    "\n",
    "a = [1,2,3,4,5,6,7,8,9]\n",
    "a[0:]\n",
    "\n",
    "now = datetime.now()\n",
    "print(now.strftime(\"%d/%m/%Y_\"))\n",
    "delta_days = datetime(year = 2018, month = 7, day = 12) - datetime(year = 2018, month = 7, day = 13)\n",
    "delta_days.days"
   ],
   "metadata": {
    "collapsed": false,
    "pycharm": {
     "name": "#%%\n"
    }
   }
  },
  {
   "cell_type": "code",
   "execution_count": null,
   "outputs": [],
   "source": [
    "\n"
   ],
   "metadata": {
    "collapsed": false,
    "pycharm": {
     "name": "#%%\n"
    }
   }
  }
 ],
 "metadata": {
  "kernelspec": {
   "display_name": "Python 3",
   "language": "python",
   "name": "python3"
  },
  "language_info": {
   "codemirror_mode": {
    "name": "ipython",
    "version": 2
   },
   "file_extension": ".py",
   "mimetype": "text/x-python",
   "name": "python",
   "nbconvert_exporter": "python",
   "pygments_lexer": "ipython2",
   "version": "2.7.6"
  }
 },
 "nbformat": 4,
 "nbformat_minor": 0
}